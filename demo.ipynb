{
 "cells": [
  {
   "cell_type": "code",
   "execution_count": 1,
   "metadata": {},
   "outputs": [],
   "source": [
    "class Parent():\n",
    "    def __init__(self, a=1, b=2, c=3):\n",
    "        self.a=a\n",
    "        self.b=b\n",
    "        self.c=c\n",
    "    def _print(self, s):\n",
    "        print(f\"I`m parent: a={self.a}\\tb={self.b}\\tc={self.c}\\n{s}\")\n",
    "    \n",
    "    def __call__(self, s):\n",
    "        self._print(s)\n",
    "\n",
    "class Child(Parent):\n",
    "    def _print(self, s):\n",
    "        print(f\"I`m child: a={self.a}\\tb={self.b}\\tc={self.c}\\n{s}\")\n"
   ]
  },
  {
   "cell_type": "code",
   "execution_count": 2,
   "metadata": {},
   "outputs": [
    {
     "name": "stdout",
     "output_type": "stream",
     "text": [
      "I`m child: a=11\tb=2\tc=3\n",
      "woca\n"
     ]
    }
   ],
   "source": [
    "child = Child(a=11)\n",
    "child(\"woca\")"
   ]
  }
 ],
 "metadata": {
  "interpreter": {
   "hash": "bac4bc1df2664703a70fb6842ab34c30332c497389419e7bfd946ba380a9a971"
  },
  "kernelspec": {
   "display_name": "Python 3.7.11 ('mmd')",
   "language": "python",
   "name": "python3"
  },
  "language_info": {
   "codemirror_mode": {
    "name": "ipython",
    "version": 3
   },
   "file_extension": ".py",
   "mimetype": "text/x-python",
   "name": "python",
   "nbconvert_exporter": "python",
   "pygments_lexer": "ipython3",
   "version": "3.7.11"
  },
  "orig_nbformat": 4
 },
 "nbformat": 4,
 "nbformat_minor": 2
}
