{
 "cells": [
  {
   "cell_type": "code",
   "execution_count": 5,
   "metadata": {},
   "outputs": [
    {
     "data": {
      "text/plain": [
       "(tensor([[[ 0.7084,  1.4169,  2.1253,  2.8338],\n",
       "          [ 3.3275,  3.9930,  4.6585,  5.3240],\n",
       "          [ 1.8039,  2.0043,  2.2048,  2.4052]],\n",
       " \n",
       "         [[ 0.8081,  0.8702,  0.9324,  0.9946],\n",
       "          [10.3458, 10.9544, 11.5630, 12.1715],\n",
       "          [ 6.3996,  6.7043,  7.0090,  7.3138]]]),\n",
       " torch.Size([2, 3, 1]),\n",
       " tensor([[[0.7084, 0.2739],\n",
       "          [0.6655, 0.5484],\n",
       "          [0.2004, 0.8385]],\n",
       " \n",
       "         [[0.0622, 0.3439],\n",
       "          [0.6086, 0.8304],\n",
       "          [0.3047, 0.9468]]]),\n",
       " tensor([[[0.7084],\n",
       "          [0.6655],\n",
       "          [0.2004]],\n",
       " \n",
       "         [[0.0622],\n",
       "          [0.6086],\n",
       "          [0.3047]]]))"
      ]
     },
     "execution_count": 5,
     "metadata": {},
     "output_type": "execute_result"
    }
   ],
   "source": [
    "import torch\n",
    "\n",
    "a = torch.arange(1, 25).float().reshape(2,3,4)\n",
    "b = torch.rand(2, 3, 2)\n",
    "c = b[..., 0, None]\n",
    "a * c, c.shape, b, c"
   ]
  }
 ],
 "metadata": {
  "interpreter": {
   "hash": "bac4bc1df2664703a70fb6842ab34c30332c497389419e7bfd946ba380a9a971"
  },
  "kernelspec": {
   "display_name": "Python 3.7.11 ('mmd')",
   "language": "python",
   "name": "python3"
  },
  "language_info": {
   "codemirror_mode": {
    "name": "ipython",
    "version": 3
   },
   "file_extension": ".py",
   "mimetype": "text/x-python",
   "name": "python",
   "nbconvert_exporter": "python",
   "pygments_lexer": "ipython3",
   "version": "3.7.11"
  },
  "orig_nbformat": 4
 },
 "nbformat": 4,
 "nbformat_minor": 2
}
